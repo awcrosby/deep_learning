{
 "cells": [
  {
   "cell_type": "markdown",
   "metadata": {},
   "source": [
    "# Transfer Learning\n",
    "\n",
    "Most of the time you won't want to train a whole convolutional network yourself. Modern ConvNets training on huge datasets like ImageNet take weeks on multiple GPUs. Instead, most people use a pretrained network either as a fixed feature extractor, or as an initial network to fine tune. In this notebook, you'll be using [VGGNet](https://arxiv.org/pdf/1409.1556.pdf) trained on the [ImageNet dataset](http://www.image-net.org/) as a feature extractor. Below is a diagram of the VGGNet architecture.\n",
    "\n",
    "<img src=\"assets/cnnarchitecture.jpg\" width=700px>\n",
    "\n",
    "VGGNet is great because it's simple and has great performance, coming in second in the ImageNet competition. The idea here is that we keep all the convolutional layers, but replace the final fully connected layers with our own classifier. This way we can use VGGNet as a feature extractor for our images then easily train a simple classifier on top of that. What we'll do is take the first fully connected layer with 4096 units, including thresholding with ReLUs. We can use those values as a code for each image, then build a classifier on top of those codes.\n",
    "\n",
    "You can read more about transfer learning from [the CS231n course notes](http://cs231n.github.io/transfer-learning/#tf).\n",
    "\n",
    "## Pretrained VGGNet\n",
    "\n",
    "We'll be using a pretrained network from https://github.com/machrisaa/tensorflow-vgg. This code is already included in 'tensorflow_vgg' directory, sdo you don't have to clone it.\n",
    "\n",
    "This is a really nice implementation of VGGNet, quite easy to work with. The network has already been trained and the parameters are available from this link. **You'll need to clone the repo into the folder containing this notebook.** Then download the parameter file using the next cell."
   ]
  },
  {
   "cell_type": "code",
   "execution_count": 1,
   "metadata": {},
   "outputs": [
    {
     "name": "stdout",
     "output_type": "stream",
     "text": [
      "Parameter file already exists!\n"
     ]
    }
   ],
   "source": [
    "from urllib.request import urlretrieve\n",
    "from os.path import isfile, isdir\n",
    "from tqdm import tqdm\n",
    "\n",
    "vgg_dir = 'tensorflow_vgg/'\n",
    "# Make sure vgg exists\n",
    "if not isdir(vgg_dir):\n",
    "    raise Exception(\"VGG directory doesn't exist!\")\n",
    "\n",
    "class DLProgress(tqdm):\n",
    "    last_block = 0\n",
    "\n",
    "    def hook(self, block_num=1, block_size=1, total_size=None):\n",
    "        self.total = total_size\n",
    "        self.update((block_num - self.last_block) * block_size)\n",
    "        self.last_block = block_num\n",
    "\n",
    "if not isfile(vgg_dir + \"vgg16.npy\"):\n",
    "    with DLProgress(unit='B', unit_scale=True, miniters=1, desc='VGG16 Parameters') as pbar:\n",
    "        urlretrieve(\n",
    "            'https://s3.amazonaws.com/content.udacity-data.com/nd101/vgg16.npy',\n",
    "            vgg_dir + 'vgg16.npy',\n",
    "            pbar.hook)\n",
    "else:\n",
    "    print(\"Parameter file already exists!\")"
   ]
  },
  {
   "cell_type": "markdown",
   "metadata": {},
   "source": [
    "## Flower power\n",
    "\n",
    "Here we'll be using VGGNet to classify images of flowers. To get the flower dataset, run the cell below. This dataset comes from the [TensorFlow inception tutorial](https://www.tensorflow.org/tutorials/image_retraining)."
   ]
  },
  {
   "cell_type": "code",
   "execution_count": 2,
   "metadata": {},
   "outputs": [],
   "source": [
    "import tarfile\n",
    "\n",
    "dataset_folder_path = 'flower_photos'\n",
    "\n",
    "class DLProgress(tqdm):\n",
    "    last_block = 0\n",
    "\n",
    "    def hook(self, block_num=1, block_size=1, total_size=None):\n",
    "        self.total = total_size\n",
    "        self.update((block_num - self.last_block) * block_size)\n",
    "        self.last_block = block_num\n",
    "\n",
    "if not isfile('flower_photos.tar.gz'):\n",
    "    with DLProgress(unit='B', unit_scale=True, miniters=1, desc='Flowers Dataset') as pbar:\n",
    "        urlretrieve(\n",
    "            'http://download.tensorflow.org/example_images/flower_photos.tgz',\n",
    "            'flower_photos.tar.gz',\n",
    "            pbar.hook)\n",
    "\n",
    "if not isdir(dataset_folder_path):\n",
    "    with tarfile.open('flower_photos.tar.gz') as tar:\n",
    "        tar.extractall()\n",
    "        tar.close()"
   ]
  },
  {
   "cell_type": "markdown",
   "metadata": {},
   "source": [
    "## ConvNet Codes\n",
    "\n",
    "Below, we'll run through all the images in our dataset and get codes for each of them. That is, we'll run the images through the VGGNet convolutional layers and record the values of the first fully connected layer. We can then write these to a file for later when we build our own classifier.\n",
    "\n",
    "Here we're using the `vgg16` module from `tensorflow_vgg`. The network takes images of size $224 \\times 224 \\times 3$ as input. Then it has 5 sets of convolutional layers. The network implemented here has this structure (copied from [the source code](https://github.com/machrisaa/tensorflow-vgg/blob/master/vgg16.py)):\n",
    "\n",
    "```\n",
    "self.conv1_1 = self.conv_layer(bgr, \"conv1_1\")\n",
    "self.conv1_2 = self.conv_layer(self.conv1_1, \"conv1_2\")\n",
    "self.pool1 = self.max_pool(self.conv1_2, 'pool1')\n",
    "\n",
    "self.conv2_1 = self.conv_layer(self.pool1, \"conv2_1\")\n",
    "self.conv2_2 = self.conv_layer(self.conv2_1, \"conv2_2\")\n",
    "self.pool2 = self.max_pool(self.conv2_2, 'pool2')\n",
    "\n",
    "self.conv3_1 = self.conv_layer(self.pool2, \"conv3_1\")\n",
    "self.conv3_2 = self.conv_layer(self.conv3_1, \"conv3_2\")\n",
    "self.conv3_3 = self.conv_layer(self.conv3_2, \"conv3_3\")\n",
    "self.pool3 = self.max_pool(self.conv3_3, 'pool3')\n",
    "\n",
    "self.conv4_1 = self.conv_layer(self.pool3, \"conv4_1\")\n",
    "self.conv4_2 = self.conv_layer(self.conv4_1, \"conv4_2\")\n",
    "self.conv4_3 = self.conv_layer(self.conv4_2, \"conv4_3\")\n",
    "self.pool4 = self.max_pool(self.conv4_3, 'pool4')\n",
    "\n",
    "self.conv5_1 = self.conv_layer(self.pool4, \"conv5_1\")\n",
    "self.conv5_2 = self.conv_layer(self.conv5_1, \"conv5_2\")\n",
    "self.conv5_3 = self.conv_layer(self.conv5_2, \"conv5_3\")\n",
    "self.pool5 = self.max_pool(self.conv5_3, 'pool5')\n",
    "\n",
    "self.fc6 = self.fc_layer(self.pool5, \"fc6\")\n",
    "self.relu6 = tf.nn.relu(self.fc6)\n",
    "```\n",
    "\n",
    "So what we want are the values of the first fully connected layer, after being ReLUd (`self.relu6`). To build the network, we use\n",
    "\n",
    "```\n",
    "with tf.Session() as sess:\n",
    "    vgg = vgg16.Vgg16()\n",
    "    input_ = tf.placeholder(tf.float32, [None, 224, 224, 3])\n",
    "    with tf.name_scope(\"content_vgg\"):\n",
    "        vgg.build(input_)\n",
    "```\n",
    "\n",
    "This creates the `vgg` object, then builds the graph with `vgg.build(input_)`. Then to get the values from the layer,\n",
    "\n",
    "```\n",
    "feed_dict = {input_: images}\n",
    "codes = sess.run(vgg.relu6, feed_dict=feed_dict)\n",
    "```"
   ]
  },
  {
   "cell_type": "code",
   "execution_count": 3,
   "metadata": {
    "collapsed": true
   },
   "outputs": [],
   "source": [
    "import os\n",
    "\n",
    "import numpy as np\n",
    "import tensorflow as tf\n",
    "\n",
    "from tensorflow_vgg import vgg16\n",
    "from tensorflow_vgg import utils"
   ]
  },
  {
   "cell_type": "code",
   "execution_count": 4,
   "metadata": {
    "collapsed": true
   },
   "outputs": [],
   "source": [
    "data_dir = 'flower_photos/'\n",
    "contents = os.listdir(data_dir)\n",
    "classes = [each for each in contents if os.path.isdir(data_dir + each)]"
   ]
  },
  {
   "cell_type": "markdown",
   "metadata": {},
   "source": [
    "Below I'm running images through the VGG network in batches.\n",
    "\n",
    "> **Exercise:** Below, build the VGG network. Also get the codes from the first fully connected layer (make sure you get the ReLUd values)."
   ]
  },
  {
   "cell_type": "code",
   "execution_count": 5,
   "metadata": {
    "scrolled": true
   },
   "outputs": [
    {
     "name": "stdout",
     "output_type": "stream",
     "text": [
      "/home/ubuntu/deep-learning/transfer-learning/tensorflow_vgg/vgg16.npy\n",
      "npy file loaded\n",
      "build model started\n",
      "build model finished: 0s\n",
      "Starting roses images\n",
      "10 images processed\n",
      "20 images processed\n",
      "30 images processed\n",
      "40 images processed\n",
      "50 images processed\n",
      "60 images processed\n",
      "70 images processed\n",
      "80 images processed\n",
      "90 images processed\n",
      "100 images processed\n",
      "110 images processed\n",
      "120 images processed\n",
      "130 images processed\n",
      "140 images processed\n",
      "150 images processed\n",
      "160 images processed\n",
      "170 images processed\n",
      "180 images processed\n",
      "190 images processed\n",
      "200 images processed\n",
      "210 images processed\n",
      "220 images processed\n",
      "230 images processed\n",
      "240 images processed\n",
      "250 images processed\n",
      "260 images processed\n",
      "270 images processed\n",
      "280 images processed\n",
      "290 images processed\n",
      "300 images processed\n",
      "310 images processed\n",
      "320 images processed\n",
      "330 images processed\n",
      "340 images processed\n",
      "350 images processed\n",
      "360 images processed\n",
      "370 images processed\n",
      "380 images processed\n",
      "390 images processed\n",
      "400 images processed\n",
      "410 images processed\n",
      "420 images processed\n",
      "430 images processed\n",
      "440 images processed\n",
      "450 images processed\n",
      "460 images processed\n",
      "470 images processed\n",
      "480 images processed\n",
      "490 images processed\n",
      "500 images processed\n",
      "510 images processed\n",
      "520 images processed\n",
      "530 images processed\n",
      "540 images processed\n",
      "550 images processed\n",
      "560 images processed\n",
      "570 images processed\n",
      "580 images processed\n",
      "590 images processed\n",
      "600 images processed\n",
      "610 images processed\n",
      "620 images processed\n",
      "630 images processed\n",
      "640 images processed\n",
      "641 images processed\n",
      "Starting daisy images\n",
      "10 images processed\n",
      "20 images processed\n",
      "30 images processed\n",
      "40 images processed\n",
      "50 images processed\n",
      "60 images processed\n",
      "70 images processed\n",
      "80 images processed\n",
      "90 images processed\n",
      "100 images processed\n",
      "110 images processed\n",
      "120 images processed\n",
      "130 images processed\n",
      "140 images processed\n",
      "150 images processed\n",
      "160 images processed\n",
      "170 images processed\n",
      "180 images processed\n",
      "190 images processed\n",
      "200 images processed\n",
      "210 images processed\n",
      "220 images processed\n",
      "230 images processed\n",
      "240 images processed\n",
      "250 images processed\n",
      "260 images processed\n",
      "270 images processed\n",
      "280 images processed\n",
      "290 images processed\n",
      "300 images processed\n",
      "310 images processed\n",
      "320 images processed\n",
      "330 images processed\n",
      "340 images processed\n",
      "350 images processed\n",
      "360 images processed\n",
      "370 images processed\n",
      "380 images processed\n",
      "390 images processed\n",
      "400 images processed\n",
      "410 images processed\n",
      "420 images processed\n",
      "430 images processed\n",
      "440 images processed\n",
      "450 images processed\n",
      "460 images processed\n",
      "470 images processed\n",
      "480 images processed\n",
      "490 images processed\n",
      "500 images processed\n",
      "510 images processed\n",
      "520 images processed\n",
      "530 images processed\n",
      "540 images processed\n",
      "550 images processed\n",
      "560 images processed\n",
      "570 images processed\n",
      "580 images processed\n",
      "590 images processed\n",
      "600 images processed\n",
      "610 images processed\n",
      "620 images processed\n",
      "630 images processed\n",
      "633 images processed\n",
      "Starting tulips images\n",
      "10 images processed\n",
      "20 images processed\n",
      "30 images processed\n",
      "40 images processed\n",
      "50 images processed\n",
      "60 images processed\n",
      "70 images processed\n",
      "80 images processed\n",
      "90 images processed\n",
      "100 images processed\n",
      "110 images processed\n",
      "120 images processed\n",
      "130 images processed\n",
      "140 images processed\n",
      "150 images processed\n",
      "160 images processed\n",
      "170 images processed\n",
      "180 images processed\n",
      "190 images processed\n",
      "200 images processed\n",
      "210 images processed\n",
      "220 images processed\n",
      "230 images processed\n",
      "240 images processed\n",
      "250 images processed\n",
      "260 images processed\n",
      "270 images processed\n",
      "280 images processed\n",
      "290 images processed\n",
      "300 images processed\n",
      "310 images processed\n",
      "320 images processed\n",
      "330 images processed\n",
      "340 images processed\n",
      "350 images processed\n",
      "360 images processed\n",
      "370 images processed\n",
      "380 images processed\n",
      "390 images processed\n",
      "400 images processed\n",
      "410 images processed\n",
      "420 images processed\n",
      "430 images processed\n",
      "440 images processed\n",
      "450 images processed\n",
      "460 images processed\n",
      "470 images processed\n",
      "480 images processed\n",
      "490 images processed\n",
      "500 images processed\n",
      "510 images processed\n",
      "520 images processed\n",
      "530 images processed\n",
      "540 images processed\n",
      "550 images processed\n",
      "560 images processed\n",
      "570 images processed\n",
      "580 images processed\n",
      "590 images processed\n",
      "600 images processed\n",
      "610 images processed\n",
      "620 images processed\n",
      "630 images processed\n",
      "640 images processed\n",
      "650 images processed\n",
      "660 images processed\n",
      "670 images processed\n",
      "680 images processed\n",
      "690 images processed\n",
      "700 images processed\n",
      "710 images processed\n",
      "720 images processed\n",
      "730 images processed\n",
      "740 images processed\n",
      "750 images processed\n",
      "760 images processed\n",
      "770 images processed\n",
      "780 images processed\n",
      "790 images processed\n",
      "799 images processed\n",
      "Starting sunflowers images\n",
      "10 images processed\n",
      "20 images processed\n",
      "30 images processed\n",
      "40 images processed\n",
      "50 images processed\n",
      "60 images processed\n",
      "70 images processed\n",
      "80 images processed\n",
      "90 images processed\n",
      "100 images processed\n",
      "110 images processed\n",
      "120 images processed\n",
      "130 images processed\n",
      "140 images processed\n",
      "150 images processed\n",
      "160 images processed\n",
      "170 images processed\n",
      "180 images processed\n",
      "190 images processed\n",
      "200 images processed\n",
      "210 images processed\n",
      "220 images processed\n",
      "230 images processed\n",
      "240 images processed\n",
      "250 images processed\n",
      "260 images processed\n",
      "270 images processed\n",
      "280 images processed\n",
      "290 images processed\n",
      "300 images processed\n",
      "310 images processed\n",
      "320 images processed\n",
      "330 images processed\n",
      "340 images processed\n",
      "350 images processed\n",
      "360 images processed\n",
      "370 images processed\n",
      "380 images processed\n",
      "390 images processed\n",
      "400 images processed\n",
      "410 images processed\n",
      "420 images processed\n",
      "430 images processed\n",
      "440 images processed\n",
      "450 images processed\n",
      "460 images processed\n",
      "470 images processed\n",
      "480 images processed\n",
      "490 images processed\n",
      "500 images processed\n",
      "510 images processed\n",
      "520 images processed\n",
      "530 images processed\n",
      "540 images processed\n",
      "550 images processed\n",
      "560 images processed\n",
      "570 images processed\n",
      "580 images processed\n",
      "590 images processed\n",
      "600 images processed\n",
      "610 images processed\n",
      "620 images processed\n",
      "630 images processed\n",
      "640 images processed\n",
      "650 images processed\n",
      "660 images processed\n",
      "670 images processed\n",
      "680 images processed\n",
      "690 images processed\n",
      "699 images processed\n",
      "Starting dandelion images\n",
      "10 images processed\n",
      "20 images processed\n",
      "30 images processed\n",
      "40 images processed\n",
      "50 images processed\n",
      "60 images processed\n",
      "70 images processed\n",
      "80 images processed\n",
      "90 images processed\n",
      "100 images processed\n",
      "110 images processed\n",
      "120 images processed\n",
      "130 images processed\n",
      "140 images processed\n",
      "150 images processed\n",
      "160 images processed\n",
      "170 images processed\n",
      "180 images processed\n",
      "190 images processed\n",
      "200 images processed\n",
      "210 images processed\n",
      "220 images processed\n",
      "230 images processed\n",
      "240 images processed\n",
      "250 images processed\n",
      "260 images processed\n",
      "270 images processed\n",
      "280 images processed\n",
      "290 images processed\n",
      "300 images processed\n",
      "310 images processed\n",
      "320 images processed\n",
      "330 images processed\n",
      "340 images processed\n",
      "350 images processed\n",
      "360 images processed\n",
      "370 images processed\n",
      "380 images processed\n",
      "390 images processed\n",
      "400 images processed\n",
      "410 images processed\n",
      "420 images processed\n",
      "430 images processed\n",
      "440 images processed\n",
      "450 images processed\n",
      "460 images processed\n",
      "470 images processed\n",
      "480 images processed\n",
      "490 images processed\n",
      "500 images processed\n",
      "510 images processed\n",
      "520 images processed\n",
      "530 images processed\n",
      "540 images processed\n",
      "550 images processed\n",
      "560 images processed\n",
      "570 images processed\n",
      "580 images processed\n",
      "590 images processed\n",
      "600 images processed\n",
      "610 images processed\n",
      "620 images processed\n",
      "630 images processed\n",
      "640 images processed\n",
      "650 images processed\n",
      "660 images processed\n",
      "670 images processed\n",
      "680 images processed\n",
      "690 images processed\n",
      "700 images processed\n",
      "710 images processed\n",
      "720 images processed\n",
      "730 images processed\n",
      "740 images processed\n",
      "750 images processed\n",
      "760 images processed\n",
      "770 images processed\n",
      "780 images processed\n",
      "790 images processed\n",
      "800 images processed\n",
      "810 images processed\n",
      "820 images processed\n",
      "830 images processed\n",
      "840 images processed\n",
      "850 images processed\n",
      "860 images processed\n",
      "870 images processed\n",
      "880 images processed\n",
      "890 images processed\n",
      "898 images processed\n"
     ]
    }
   ],
   "source": [
    "# Set the batch size higher if you can fit in in your GPU memory\n",
    "batch_size = 10\n",
    "codes_list = []\n",
    "labels = []\n",
    "batch = []\n",
    "\n",
    "codes = None\n",
    "\n",
    "with tf.Session() as sess:\n",
    "    \n",
    "    # TODO: Build the vgg network here\n",
    "    vgg = vgg16.Vgg16()\n",
    "    input_ = tf.placeholder(tf.float32, [None, 224, 224, 3])\n",
    "    with tf.name_scope('content_vgg'):\n",
    "        vgg.build(input_)\n",
    "\n",
    "    for each in classes:\n",
    "        print(\"Starting {} images\".format(each))\n",
    "        class_path = data_dir + each\n",
    "        files = os.listdir(class_path)\n",
    "        for ii, file in enumerate(files, 1):\n",
    "            # Add images to the current batch\n",
    "            # utils.load_image crops the input images for us, from the center\n",
    "            img = utils.load_image(os.path.join(class_path, file))\n",
    "            batch.append(img.reshape((1, 224, 224, 3)))\n",
    "            labels.append(each)\n",
    "            \n",
    "            # Running the batch through the network to get the codes\n",
    "            if ii % batch_size == 0 or ii == len(files):\n",
    "                \n",
    "                # Image batch to pass to VGG network\n",
    "                images = np.concatenate(batch)\n",
    "                \n",
    "                # TODO: Get the values from the relu6 layer of the VGG network\n",
    "                codes_batch = sess.run(vgg.relu6, feed_dict={input_: images})\n",
    "                \n",
    "                # Here I'm building an array of the codes\n",
    "                if codes is None:\n",
    "                    codes = codes_batch\n",
    "                else:\n",
    "                    codes = np.concatenate((codes, codes_batch))\n",
    "                \n",
    "                # Reset to start building the next batch\n",
    "                batch = []\n",
    "                print('{} images processed'.format(ii))"
   ]
  },
  {
   "cell_type": "code",
<<<<<<< HEAD
   "execution_count": null,
   "metadata": {
    "collapsed": true
   },
=======
   "execution_count": 6,
   "metadata": {},
>>>>>>> 7b0351a1e040e258a08406bffbe2288076486de2
   "outputs": [],
   "source": [
    "# write codes to file\n",
    "with open('codes', 'w') as f:\n",
    "    codes.tofile(f)\n",
    "    \n",
    "# write labels to file\n",
    "import csv\n",
    "with open('labels', 'w') as f:\n",
    "    writer = csv.writer(f, delimiter='\\n')\n",
    "    writer.writerow(labels)"
   ]
  },
  {
   "cell_type": "markdown",
   "metadata": {},
   "source": [
    "## Building the Classifier\n",
    "\n",
    "Now that we have codes for all the images, we can build a simple classifier on top of them. The codes behave just like normal input into a simple neural network. Below I'm going to have you do most of the work."
   ]
  },
  {
   "cell_type": "code",
<<<<<<< HEAD
   "execution_count": null,
   "metadata": {
    "collapsed": true
   },
=======
   "execution_count": 7,
   "metadata": {},
>>>>>>> 7b0351a1e040e258a08406bffbe2288076486de2
   "outputs": [],
   "source": [
    "# read codes and labels from file\n",
    "import csv\n",
    "\n",
    "with open('labels') as f:\n",
    "    reader = csv.reader(f, delimiter='\\n')\n",
    "    labels = np.array([each for each in reader if len(each) > 0]).squeeze()\n",
    "with open('codes') as f:\n",
    "    codes = np.fromfile(f, dtype=np.float32)\n",
    "    codes = codes.reshape((len(labels), -1))"
   ]
  },
  {
   "cell_type": "markdown",
   "metadata": {},
   "source": [
    "### Data prep\n",
    "\n",
    "As usual, now we need to one-hot encode our labels and create validation/test sets. First up, creating our labels!\n",
    "\n",
    "> **Exercise:** From scikit-learn, use [LabelBinarizer](http://scikit-learn.org/stable/modules/generated/sklearn.preprocessing.LabelBinarizer.html) to create one-hot encoded vectors from the labels. "
   ]
  },
  {
   "cell_type": "code",
<<<<<<< HEAD
   "execution_count": null,
   "metadata": {
    "collapsed": true
   },
   "outputs": [],
=======
   "execution_count": 8,
   "metadata": {},
   "outputs": [
    {
     "data": {
      "text/plain": [
       "array(['roses', 'roses', 'roses', 'roses', 'roses', 'roses', 'roses',\n",
       "       'roses', 'roses', 'roses'], \n",
       "      dtype='<U10')"
      ]
     },
     "execution_count": 8,
     "metadata": {},
     "output_type": "execute_result"
    }
   ],
>>>>>>> 7b0351a1e040e258a08406bffbe2288076486de2
   "source": [
    "labels[:10]"
   ]
  },
  {
   "cell_type": "code",
   "execution_count": 22,
   "metadata": {},
   "outputs": [
    {
     "name": "stdout",
     "output_type": "stream",
     "text": [
      "['daisy' 'dandelion' 'roses' 'sunflowers' 'tulips']\n",
      "[[0 0 1 0 0]\n",
      " [0 0 1 0 0]\n",
      " [0 0 1 0 0]\n",
      " ..., \n",
      " [0 1 0 0 0]\n",
      " [0 1 0 0 0]\n",
      " [0 1 0 0 0]]\n",
      "[0 0 1 0 0]\n"
     ]
    }
   ],
   "source": [
    "from sklearn import preprocessing\n",
    "lb = preprocessing.LabelBinarizer()\n",
    "lb.fit(labels)\n",
    "print(lb.classes_)\n",
    "print(lb.transform(labels))\n",
    "labels_vecs = lb.transform(labels)  # Your one-hot encoded labels array here"
   ]
  },
  {
   "cell_type": "markdown",
   "metadata": {},
   "source": [
    "Now you'll want to create your training, validation, and test sets. An important thing to note here is that our labels and data aren't randomized yet. We'll want to shuffle our data so the validation and test sets contain data from all classes. Otherwise, you could end up with testing sets that are all one class. Typically, you'll also want to make sure that each smaller set has the same the distribution of classes as it is for the whole data set. The easiest way to accomplish both these goals is to use [`StratifiedShuffleSplit`](http://scikit-learn.org/stable/modules/generated/sklearn.model_selection.StratifiedShuffleSplit.html) from scikit-learn.\n",
    "\n",
    "You can create the splitter like so:\n",
    "```\n",
    "ss = StratifiedShuffleSplit(n_splits=1, test_size=0.2)\n",
    "```\n",
    "Then split the data with \n",
    "```\n",
    "splitter = ss.split(x, y)\n",
    "```\n",
    "\n",
    "`ss.split` returns a generator of indices. You can pass the indices into the arrays to get the split sets. The fact that it's a generator means you either need to iterate over it, or use `next(splitter)` to get the indices. Be sure to read the [documentation](http://scikit-learn.org/stable/modules/generated/sklearn.model_selection.StratifiedShuffleSplit.html) and the [user guide](http://scikit-learn.org/stable/modules/cross_validation.html#random-permutations-cross-validation-a-k-a-shuffle-split).\n",
    "\n",
    "> **Exercise:** Use StratifiedShuffleSplit to split the codes and labels into training, validation, and test sets."
   ]
  },
  {
   "cell_type": "code",
<<<<<<< HEAD
   "execution_count": null,
   "metadata": {
    "collapsed": true
   },
   "outputs": [],
=======
   "execution_count": 26,
   "metadata": {},
   "outputs": [
    {
     "name": "stdout",
     "output_type": "stream",
     "text": [
      "len(train_x) 2936\n",
      "len(val_x) 367\n",
      "len(test_x) 367\n"
     ]
    }
   ],
>>>>>>> 7b0351a1e040e258a08406bffbe2288076486de2
   "source": [
    "from sklearn.model_selection import StratifiedShuffleSplit\n",
    "\n",
    "sss = StratifiedShuffleSplit(n_splits=1, test_size=0.2)\n",
    "sss.get_n_splits(codes, labels_vecs)\n",
    "\n",
    "for train_index, test_index in sss.split(codes, labels_vecs):\n",
    "    #print(\"TRAIN:\", train_index, \"TEST:\", test_index)\n",
    "    train_x, train_y = codes[train_index], labels_vecs[train_index]\n",
    "    vt_x, vt_y = codes[test_index], labels_vecs[test_index]\n",
    "    val_x, val_y = vt_x[:367], vt_y[:367]\n",
    "    test_x, test_y = vt_x[367:], vt_y[367:]\n",
    "    print('len(train_x)', len(train_x))\n",
    "    print('len(val_x)', len(val_x))\n",
    "    print('len(test_x)', len(test_x))"
   ]
  },
  {
   "cell_type": "code",
<<<<<<< HEAD
   "execution_count": null,
   "metadata": {
    "collapsed": true
   },
   "outputs": [],
=======
   "execution_count": 40,
   "metadata": {},
   "outputs": [
    {
     "name": "stdout",
     "output_type": "stream",
     "text": [
      "Train shapes (x, y): (2936, 4096) (2936, 5)\n",
      "Validation shapes (x, y): (367, 4096) (367, 5)\n",
      "Test shapes (x, y): (367, 4096) (367, 5)\n"
     ]
    }
   ],
>>>>>>> 7b0351a1e040e258a08406bffbe2288076486de2
   "source": [
    "print(\"Train shapes (x, y):\", train_x.shape, train_y.shape)\n",
    "print(\"Validation shapes (x, y):\", val_x.shape, val_y.shape)\n",
    "print(\"Test shapes (x, y):\", test_x.shape, test_y.shape)"
   ]
  },
  {
   "cell_type": "markdown",
   "metadata": {},
   "source": [
    "If you did it right, you should see these sizes for the training sets:\n",
    "\n",
    "```\n",
    "Train shapes (x, y): (2936, 4096) (2936, 5)\n",
    "Validation shapes (x, y): (367, 4096) (367, 5)\n",
    "Test shapes (x, y): (367, 4096) (367, 5)\n",
    "```"
   ]
  },
  {
   "cell_type": "markdown",
   "metadata": {},
   "source": [
    "### Classifier layers\n",
    "\n",
    "Once you have the convolutional codes, you just need to build a classfier from some fully connected layers. You use the codes as the inputs and the image labels as targets. Otherwise the classifier is a typical neural network.\n",
    "\n",
    "> **Exercise:** With the codes and labels loaded, build the classifier. Consider the codes as your inputs, each of them are 4096D vectors. You'll want to use a hidden layer and an output layer as your classifier. Remember that the output layer needs to have one unit for each class and a softmax activation function. Use the cross entropy to calculate the cost."
   ]
  },
  {
   "cell_type": "code",
<<<<<<< HEAD
   "execution_count": null,
   "metadata": {
    "collapsed": true
   },
=======
   "execution_count": 65,
   "metadata": {},
>>>>>>> 7b0351a1e040e258a08406bffbe2288076486de2
   "outputs": [],
   "source": [
    "inputs_ = tf.placeholder(tf.float32, shape=[None, codes.shape[1]])\n",
    "labels_ = tf.placeholder(tf.int64, shape=[None, labels_vecs.shape[1]])\n",
    "\n",
    "# TODO: Classifier layers and operations\n",
    "\n",
    "hidden = tf.layers.dense(inputs_, 1024, activation=tf.nn.relu)\n",
    "\n",
    "# output layer logits\n",
    "logits = tf.layers.dense(hidden, labels_.shape[1], activation=None)\n",
    "# cross entropy loss\n",
    "cross_entropy = tf.nn.softmax_cross_entropy_with_logits(logits=logits, labels=labels_)\n",
    "cost = tf.reduce_mean(cross_entropy)\n",
    "\n",
    "# training optimizer\n",
    "optimizer = tf.train.AdamOptimizer().minimize(cost)\n",
    "\n",
    "# Operations for validation/test accuracy\n",
    "predicted = tf.nn.softmax(logits)\n",
    "correct_pred = tf.equal(tf.argmax(predicted, 1), tf.argmax(labels_, 1))\n",
    "accuracy = tf.reduce_mean(tf.cast(correct_pred, tf.float32))"
   ]
  },
  {
   "cell_type": "markdown",
   "metadata": {},
   "source": [
    "### Batches!\n",
    "\n",
    "Here is just a simple way to do batches. I've written it so that it includes all the data. Sometimes you'll throw out some data at the end to make sure you have full batches. Here I just extend the last batch to include the remaining data."
   ]
  },
  {
   "cell_type": "code",
<<<<<<< HEAD
   "execution_count": null,
   "metadata": {
    "collapsed": true
   },
=======
   "execution_count": 66,
   "metadata": {},
>>>>>>> 7b0351a1e040e258a08406bffbe2288076486de2
   "outputs": [],
   "source": [
    "def get_batches(x, y, n_batches=10):\n",
    "    \"\"\" Return a generator that yields batches from arrays x and y. \"\"\"\n",
    "    batch_size = len(x)//n_batches\n",
    "    \n",
    "    for ii in range(0, n_batches*batch_size, batch_size):\n",
    "        # If we're not on the last batch, grab data with size batch_size\n",
    "        if ii != (n_batches-1)*batch_size:\n",
    "            X, Y = x[ii: ii+batch_size], y[ii: ii+batch_size] \n",
    "        # On the last batch, grab the rest of the data\n",
    "        else:\n",
    "            X, Y = x[ii:], y[ii:]\n",
    "        # I love generators\n",
    "        yield X, Y"
   ]
  },
  {
   "cell_type": "markdown",
   "metadata": {},
   "source": [
    "### Training\n",
    "\n",
    "Here, we'll train the network.\n",
    "\n",
    "> **Exercise:** So far we've been providing the training code for you. Here, I'm going to give you a bit more of a challenge and have you write the code to train the network. Of course, you'll be able to see my solution if you need help. Use the `get_batches` function I wrote before to get your batches like `for x, y in get_batches(train_x, train_y)`. Or write your own!"
   ]
  },
  {
   "cell_type": "code",
   "execution_count": 67,
   "metadata": {
    "collapsed": true,
    "scrolled": true
   },
   "outputs": [
    {
     "name": "stdout",
     "output_type": "stream",
     "text": [
      "epoch 1/10 iter: 0 train loss: 5.516475200653076\n",
      "epoch 1/10 iter: 1 train loss: 30.957883834838867\n",
      "epoch 1/10 iter: 2 train loss: 20.756988525390625\n",
      "epoch 1/10 iter: 3 train loss: 7.2439165115356445\n",
      "epoch 1/10 iter: 4 train loss: 7.877499580383301\n",
      "acc: 0.6294277906417847\n",
      "epoch 1/10 iter: 5 train loss: 9.416380882263184\n",
      "epoch 1/10 iter: 6 train loss: 6.688457012176514\n",
      "epoch 1/10 iter: 7 train loss: 3.415259838104248\n",
      "epoch 1/10 iter: 8 train loss: 3.423311710357666\n",
      "epoch 1/10 iter: 9 train loss: 4.820772647857666\n",
      "acc: 0.7493187189102173\n",
      "epoch 2/10 iter: 10 train loss: 3.5015289783477783\n",
      "epoch 2/10 iter: 11 train loss: 1.5881438255310059\n",
      "epoch 2/10 iter: 12 train loss: 1.6208007335662842\n",
      "epoch 2/10 iter: 13 train loss: 1.4033266305923462\n",
      "epoch 2/10 iter: 14 train loss: 1.7663593292236328\n",
      "acc: 0.8310625553131104\n",
      "epoch 2/10 iter: 15 train loss: 1.8207179307937622\n",
      "epoch 2/10 iter: 16 train loss: 1.863710880279541\n",
      "epoch 2/10 iter: 17 train loss: 0.9625095129013062\n",
      "epoch 2/10 iter: 18 train loss: 1.3460711240768433\n",
      "epoch 2/10 iter: 19 train loss: 1.2972869873046875\n",
      "acc: 0.8528609871864319\n",
      "epoch 3/10 iter: 20 train loss: 0.7481454610824585\n",
      "epoch 3/10 iter: 21 train loss: 1.0259371995925903\n",
      "epoch 3/10 iter: 22 train loss: 0.6467801332473755\n",
      "epoch 3/10 iter: 23 train loss: 0.6423790454864502\n",
      "epoch 3/10 iter: 24 train loss: 0.3854968547821045\n",
      "acc: 0.8746592998504639\n",
      "epoch 3/10 iter: 25 train loss: 0.47005581855773926\n",
      "epoch 3/10 iter: 26 train loss: 0.6084786057472229\n",
      "epoch 3/10 iter: 27 train loss: 0.42788201570510864\n",
      "epoch 3/10 iter: 28 train loss: 0.38456663489341736\n",
      "epoch 3/10 iter: 29 train loss: 0.48261135816574097\n",
      "acc: 0.8882833123207092\n",
      "epoch 4/10 iter: 30 train loss: 0.30760493874549866\n",
      "epoch 4/10 iter: 31 train loss: 0.21115241944789886\n",
      "epoch 4/10 iter: 32 train loss: 0.2196374386548996\n",
      "epoch 4/10 iter: 33 train loss: 0.2620030641555786\n",
      "epoch 4/10 iter: 34 train loss: 0.2431264966726303\n",
      "acc: 0.8964577317237854\n",
      "epoch 4/10 iter: 35 train loss: 0.3205419182777405\n",
      "epoch 4/10 iter: 36 train loss: 0.3284384608268738\n",
      "epoch 4/10 iter: 37 train loss: 0.2539706826210022\n",
      "epoch 4/10 iter: 38 train loss: 0.23164960741996765\n",
      "epoch 4/10 iter: 39 train loss: 0.20692121982574463\n",
      "acc: 0.9046320915222168\n",
      "epoch 5/10 iter: 40 train loss: 0.08612494170665741\n",
      "epoch 5/10 iter: 41 train loss: 0.11904562264680862\n",
      "epoch 5/10 iter: 42 train loss: 0.10812634974718094\n",
      "epoch 5/10 iter: 43 train loss: 0.06047109141945839\n",
      "epoch 5/10 iter: 44 train loss: 0.07754305750131607\n",
      "acc: 0.9346048831939697\n",
      "epoch 5/10 iter: 45 train loss: 0.14853917062282562\n",
      "epoch 5/10 iter: 46 train loss: 0.17908048629760742\n",
      "epoch 5/10 iter: 47 train loss: 0.09962722659111023\n",
      "epoch 5/10 iter: 48 train loss: 0.11401066184043884\n",
      "epoch 5/10 iter: 49 train loss: 0.11890801787376404\n",
      "acc: 0.9264304041862488\n",
      "epoch 6/10 iter: 50 train loss: 0.03481036424636841\n",
      "epoch 6/10 iter: 51 train loss: 0.05610022693872452\n",
      "epoch 6/10 iter: 52 train loss: 0.05627061426639557\n",
      "epoch 6/10 iter: 53 train loss: 0.019274722784757614\n",
      "epoch 6/10 iter: 54 train loss: 0.035142820328474045\n",
      "acc: 0.9182560443878174\n",
      "epoch 6/10 iter: 55 train loss: 0.05249160900712013\n",
      "epoch 6/10 iter: 56 train loss: 0.10832379758358002\n",
      "epoch 6/10 iter: 57 train loss: 0.05246436223387718\n",
      "epoch 6/10 iter: 58 train loss: 0.045990295708179474\n",
      "epoch 6/10 iter: 59 train loss: 0.04799763113260269\n",
      "acc: 0.9264305233955383\n",
      "epoch 7/10 iter: 60 train loss: 0.04173308238387108\n",
      "epoch 7/10 iter: 61 train loss: 0.024931102991104126\n",
      "epoch 7/10 iter: 62 train loss: 0.034308724105358124\n",
      "epoch 7/10 iter: 63 train loss: 0.023026060312986374\n",
      "epoch 7/10 iter: 64 train loss: 0.03171549364924431\n",
      "acc: 0.9318800568580627\n",
      "epoch 7/10 iter: 65 train loss: 0.04202625900506973\n",
      "epoch 7/10 iter: 66 train loss: 0.06628935039043427\n",
      "epoch 7/10 iter: 67 train loss: 0.023940434679389\n",
      "epoch 7/10 iter: 68 train loss: 0.03072238713502884\n",
      "epoch 7/10 iter: 69 train loss: 0.033734168857336044\n",
      "acc: 0.9264305233955383\n",
      "epoch 8/10 iter: 70 train loss: 0.012952630408108234\n",
      "epoch 8/10 iter: 71 train loss: 0.015389876440167427\n",
      "epoch 8/10 iter: 72 train loss: 0.024168815463781357\n",
      "epoch 8/10 iter: 73 train loss: 0.009346062317490578\n",
      "epoch 8/10 iter: 74 train loss: 0.018643027171492577\n",
      "acc: 0.9318800568580627\n",
      "epoch 8/10 iter: 75 train loss: 0.019020121544599533\n",
      "epoch 8/10 iter: 76 train loss: 0.04142946004867554\n",
      "epoch 8/10 iter: 77 train loss: 0.014594916254281998\n",
      "epoch 8/10 iter: 78 train loss: 0.025824150070548058\n",
      "epoch 8/10 iter: 79 train loss: 0.020486954599618912\n",
      "acc: 0.9373295903205872\n",
      "epoch 9/10 iter: 80 train loss: 0.009173211641609669\n",
      "epoch 9/10 iter: 81 train loss: 0.007894509471952915\n",
      "epoch 9/10 iter: 82 train loss: 0.016460511833429337\n",
      "epoch 9/10 iter: 83 train loss: 0.009367519058287144\n",
      "epoch 9/10 iter: 84 train loss: 0.01603938452899456\n",
      "acc: 0.9373295903205872\n",
      "epoch 9/10 iter: 85 train loss: 0.013443035073578358\n",
      "epoch 9/10 iter: 86 train loss: 0.023996049538254738\n",
      "epoch 9/10 iter: 87 train loss: 0.01146016176789999\n",
      "epoch 9/10 iter: 88 train loss: 0.021897554397583008\n",
      "epoch 9/10 iter: 89 train loss: 0.014247806742787361\n",
      "acc: 0.9318800568580627\n",
      "epoch 10/10 iter: 90 train loss: 0.0065729995258152485\n",
      "epoch 10/10 iter: 91 train loss: 0.005509324371814728\n",
      "epoch 10/10 iter: 92 train loss: 0.013576192781329155\n",
      "epoch 10/10 iter: 93 train loss: 0.006434354465454817\n",
      "epoch 10/10 iter: 94 train loss: 0.010335175320506096\n",
      "acc: 0.9318800568580627\n",
      "epoch 10/10 iter: 95 train loss: 0.009040077216923237\n",
      "epoch 10/10 iter: 96 train loss: 0.017910251393914223\n",
      "epoch 10/10 iter: 97 train loss: 0.00798801053315401\n",
      "epoch 10/10 iter: 98 train loss: 0.016969643533229828\n",
      "epoch 10/10 iter: 99 train loss: 0.009816629812121391\n",
      "acc: 0.934604823589325\n"
     ]
    }
   ],
   "source": [
    "epochs = 10\n",
    "iteration = 0\n",
    "saver = tf.train.Saver()\n",
    "with tf.Session() as sess:\n",
    "    # ** init global vars\n",
    "    sess.run(tf.global_variables_initializer())\n",
    "    for e in range(epochs):\n",
    "        # ** get batches\n",
    "        for x, y in get_batches(train_x, train_y):\n",
    "            feed = {inputs_: x, labels_: y}\n",
    "            # **run with train data for loss (pass cost/opt)\n",
    "            loss, _ = sess.run([cost, optimizer], feed_dict=feed)\n",
    "            print('epoch {}/{}'.format(e+1, epochs),\n",
    "                  'iter: {}'.format(iteration),\n",
    "                  'train loss: {}'.format(loss))\n",
    "            iteration += 1\n",
    "            \n",
    "            # ** run with val data for acc (pass acc)\n",
    "            if iteration % 5 == 0:\n",
    "                feed = {inputs_: val_x, labels_: val_y}\n",
    "\n",
    "                #for b in range(len(train_x)//batches):\n",
    "                acc = sess.run(accuracy, feed_dict=feed)\n",
    "                print('acc: {}'.format(acc))\n",
    "        \n",
    "    \n",
    "    # TODO: Your training code here\n",
    "    saver.save(sess, \"checkpoints/flowers.ckpt\")"
   ]
  },
  {
   "cell_type": "markdown",
   "metadata": {},
   "source": [
    "### Testing\n",
    "\n",
    "Below you see the test accuracy. You can also see the predictions returned for images."
   ]
  },
  {
   "cell_type": "code",
<<<<<<< HEAD
   "execution_count": null,
   "metadata": {
    "collapsed": true
   },
   "outputs": [],
=======
   "execution_count": 68,
   "metadata": {},
   "outputs": [
    {
     "name": "stdout",
     "output_type": "stream",
     "text": [
      "Test accuracy: 0.9428\n"
     ]
    }
   ],
>>>>>>> 7b0351a1e040e258a08406bffbe2288076486de2
   "source": [
    "with tf.Session() as sess:\n",
    "    saver.restore(sess, tf.train.latest_checkpoint('checkpoints'))\n",
    "    \n",
    "    feed = {inputs_: test_x,\n",
    "            labels_: test_y}\n",
    "    test_acc = sess.run(accuracy, feed_dict=feed)\n",
    "    print(\"Test accuracy: {:.4f}\".format(test_acc))"
   ]
  },
  {
   "cell_type": "code",
   "execution_count": 69,
   "metadata": {},
   "outputs": [],
   "source": [
    "%matplotlib inline\n",
    "\n",
    "import matplotlib.pyplot as plt\n",
    "from scipy.ndimage import imread"
   ]
  },
  {
   "cell_type": "markdown",
   "metadata": {},
   "source": [
    "Below, feel free to choose images and see how the trained classifier predicts the flowers in them."
   ]
  },
  {
   "cell_type": "code",
<<<<<<< HEAD
   "execution_count": null,
   "metadata": {
    "collapsed": true
   },
   "outputs": [],
=======
   "execution_count": 83,
   "metadata": {},
   "outputs": [
    {
     "data": {
      "text/plain": [
       "<matplotlib.image.AxesImage at 0x7f48c590a470>"
      ]
     },
     "execution_count": 83,
     "metadata": {},
     "output_type": "execute_result"
    },
    {
     "data": {
      "image/png": "iVBORw0KGgoAAAANSUhEUgAAAUwAAAD8CAYAAAAc052eAAAABHNCSVQICAgIfAhkiAAAAAlwSFlz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\n",
      "text/plain": [
       "<matplotlib.figure.Figure at 0x7f48c834ec18>"
      ]
     },
     "metadata": {},
     "output_type": "display_data"
    }
   ],
>>>>>>> 7b0351a1e040e258a08406bffbe2288076486de2
   "source": [
    "#test_img_path = 'flower_photos/roses/10894627425_ec76bbc757_n.jpg'\n",
    "#test_img_path = 'flower_photos/dandelion/1128626197_3f52424215_n.jpg'\n",
    "test_img_path = 'flower_photos/black-and-white-daisy-flower-1.jpg'\n",
    "#test_img_path = 'flower_photos/4697880-pink-daisy-flower.jpg'\n",
    "test_img = imread(test_img_path)\n",
    "plt.imshow(test_img)"
   ]
  },
  {
   "cell_type": "code",
<<<<<<< HEAD
   "execution_count": null,
   "metadata": {
    "collapsed": true
   },
   "outputs": [],
=======
   "execution_count": 84,
   "metadata": {},
   "outputs": [
    {
     "name": "stdout",
     "output_type": "stream",
     "text": [
      "\"vgg\" object already exists.  Will not create again.\n"
     ]
    }
   ],
>>>>>>> 7b0351a1e040e258a08406bffbe2288076486de2
   "source": [
    "# Run this cell if you don't have a vgg graph built\n",
    "if 'vgg' in globals():\n",
    "    print('\"vgg\" object already exists.  Will not create again.')\n",
    "else:\n",
    "    #create vgg\n",
    "    with tf.Session() as sess:\n",
    "        input_ = tf.placeholder(tf.float32, [None, 224, 224, 3])\n",
    "        vgg = vgg16.Vgg16()\n",
    "        vgg.build(input_)"
   ]
  },
  {
   "cell_type": "code",
<<<<<<< HEAD
   "execution_count": null,
   "metadata": {
    "collapsed": true
   },
=======
   "execution_count": 85,
   "metadata": {},
>>>>>>> 7b0351a1e040e258a08406bffbe2288076486de2
   "outputs": [],
   "source": [
    "with tf.Session() as sess:\n",
    "    img = utils.load_image(test_img_path)\n",
    "    img = img.reshape((1, 224, 224, 3))\n",
    "\n",
    "    feed_dict = {input_: img}\n",
    "    code = sess.run(vgg.relu6, feed_dict=feed_dict)\n",
    "        \n",
    "saver = tf.train.Saver()\n",
    "with tf.Session() as sess:\n",
    "    saver.restore(sess, tf.train.latest_checkpoint('checkpoints'))\n",
    "    \n",
    "    feed = {inputs_: code}\n",
    "    prediction = sess.run(predicted, feed_dict=feed).squeeze()"
   ]
  },
  {
   "cell_type": "code",
<<<<<<< HEAD
   "execution_count": null,
   "metadata": {
    "collapsed": true
   },
   "outputs": [],
=======
   "execution_count": 86,
   "metadata": {},
   "outputs": [
    {
     "data": {
      "text/plain": [
       "<matplotlib.image.AxesImage at 0x7f48b77e44e0>"
      ]
     },
     "execution_count": 86,
     "metadata": {},
     "output_type": "execute_result"
    },
    {
     "data": {
      "image/png": "iVBORw0KGgoAAAANSUhEUgAAAUwAAAD8CAYAAAAc052eAAAABHNCSVQICAgIfAhkiAAAAAlwSFlz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\n",
      "text/plain": [
       "<matplotlib.figure.Figure at 0x7f48c76e1d68>"
      ]
     },
     "metadata": {},
     "output_type": "display_data"
    }
   ],
>>>>>>> 7b0351a1e040e258a08406bffbe2288076486de2
   "source": [
    "plt.imshow(test_img)"
   ]
  },
  {
   "cell_type": "code",
<<<<<<< HEAD
   "execution_count": null,
   "metadata": {
    "collapsed": true
   },
   "outputs": [],
=======
   "execution_count": 87,
   "metadata": {},
   "outputs": [
    {
     "data": {
      "image/png": "iVBORw0KGgoAAAANSUhEUgAAAZ0AAAD8CAYAAACsAHnpAAAABHNCSVQICAgIfAhkiAAAAAlwSFlz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\n83+Ea98ZlGk18QAAAABJRU5ErkJggg==\n",
      "text/plain": [
       "<matplotlib.figure.Figure at 0x7f48b77e4c18>"
      ]
     },
     "metadata": {},
     "output_type": "display_data"
    }
   ],
>>>>>>> 7b0351a1e040e258a08406bffbe2288076486de2
   "source": [
    "plt.barh(np.arange(5), prediction)\n",
    "_ = plt.yticks(np.arange(5), lb.classes_)"
   ]
  },
  {
   "cell_type": "code",
   "execution_count": null,
   "metadata": {},
   "outputs": [],
   "source": []
  }
 ],
 "metadata": {
  "kernelspec": {
   "display_name": "Python 3",
   "language": "python",
   "name": "python3"
  },
  "language_info": {
   "codemirror_mode": {
    "name": "ipython",
    "version": 3
   },
   "file_extension": ".py",
   "mimetype": "text/x-python",
   "name": "python",
   "nbconvert_exporter": "python",
   "pygments_lexer": "ipython3",
<<<<<<< HEAD
   "version": "3.6.1"
=======
   "version": "3.5.2"
>>>>>>> 7b0351a1e040e258a08406bffbe2288076486de2
  },
  "widgets": {
   "state": {},
   "version": "1.1.2"
  }
 },
 "nbformat": 4,
 "nbformat_minor": 2
}
