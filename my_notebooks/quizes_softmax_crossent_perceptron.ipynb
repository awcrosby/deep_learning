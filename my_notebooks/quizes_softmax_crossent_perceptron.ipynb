{
 "cells": [
  {
   "cell_type": "markdown",
   "metadata": {},
   "source": [
    "## Softmax Quiz"
   ]
  },
  {
   "cell_type": "code",
   "execution_count": 2,
   "metadata": {},
   "outputs": [
    {
     "name": "stdout",
     "output_type": "stream",
     "text": [
      "[0.09003066856407584, 0.24472856574435609, 0.6652407656915682]\n",
      "[0.09003057317038046, 0.24472847105479764, 0.6652409557748219]\n",
      "[0.09003057317038046, 0.24472847105479764, 0.6652409557748219]\n",
      "[0.09003057 0.24472847 0.66524096]\n",
      "5.58 µs ± 91.7 ns per loop (mean ± std. dev. of 7 runs, 100000 loops each)\n"
     ]
    }
   ],
   "source": [
    "import numpy as np\n",
    "\n",
    "# Write a function that takes as input a list of numbers, and returns\n",
    "# the list of values given by the softmax function.\n",
    "def softmax_1(L):\n",
    "    denom = 0\n",
    "    for z in L:\n",
    "        denom += 2.71828**z\n",
    "    softmax = []\n",
    "    for z in L:\n",
    "        softmax.append((2.71828**z)/denom)\n",
    "    return softmax\n",
    "\n",
    "print(softmax_1([5,6,7]))\n",
    "#%timeit softmax_1([5,6,7])  # 1.22 µs ± 5.98 ns per loop\n",
    "\n",
    "\n",
    "def softmax_2(L):\n",
    "    denom = sum(np.exp(L))\n",
    "    softmax = []\n",
    "    for z in L:\n",
    "        softmax.append(np.exp(z)/denom)\n",
    "    return softmax\n",
    "\n",
    "print(softmax_2([5,6,7]))\n",
    "#%timeit softmax_2([5,6,7])  # 6.42 µs ± 31.6 ns per loop\n",
    "\n",
    "\n",
    "def softmax_sol(L):\n",
    "    expL = np.exp(L)\n",
    "    sumExpL = sum(expL)\n",
    "    result = []\n",
    "    for i in expL:\n",
    "        result.append(i*1.0/sumExpL)\n",
    "    return result\n",
    "\n",
    "print(softmax_sol([5,6,7]))\n",
    "#%timeit softmax_sol([5,6,7])  # 5.81 µs ± 646 ns per loop\n",
    "\n",
    "\n",
    "def softmax_short(L):\n",
    "    expL = np.exp(L)\n",
    "    return np.divide(expL, expL.sum())\n",
    "\n",
    "print(softmax_short([5,6,7]))\n",
    "%timeit softmax_short([5,6,7])  # 5.36 µs ± 34.2 ns per loop"
   ]
  },
  {
   "cell_type": "code",
   "execution_count": 17,
   "metadata": {},
   "outputs": [
    {
     "data": {
      "text/plain": [
       "array([0.6, 0.8, 0.2, 0.3])"
      ]
     },
     "execution_count": 17,
     "metadata": {},
     "output_type": "execute_result"
    }
   ],
   "source": [
    "P = np.array([.4, .2, .8, .7])\n",
    "Y = np.array([1, 0, 1, 1])\n",
    "np.log(P)\n",
    "np.multiply(P, Y)\n",
    "# z = 1 - Y\n",
    "1-P"
   ]
  },
  {
   "cell_type": "markdown",
   "metadata": {},
   "source": [
    "## Cross-Entropy Quiz"
   ]
  },
  {
   "cell_type": "code",
   "execution_count": 26,
   "metadata": {},
   "outputs": [
    {
     "name": "stdout",
     "output_type": "stream",
     "text": [
      "[-0.91629073 -0.91629073 -2.30258509 -0.69314718]\n"
     ]
    },
    {
     "data": {
      "text/plain": [
       "4.828313737302301"
      ]
     },
     "execution_count": 26,
     "metadata": {},
     "output_type": "execute_result"
    }
   ],
   "source": [
    "import numpy as np\n",
    "\n",
    "# Write a function that takes as input two lists Y, P,\n",
    "# and returns the float corresponding to their cross-entropy.\n",
    "def cross_entropy(Y, P):\n",
    "    P = np.array(P)\n",
    "    Y = np.array(Y)\n",
    "    logP = np.log(P)\n",
    "    logPminus1 = np.log(1-P)\n",
    "\n",
    "    return -sum(np.multiply(Y, logP)) - sum(np.multiply(1-Y, logPminus1))\n",
    "\n",
    "#%timeit\n",
    "cross_entropy([1, 0, 1, 1], [0.4,0.6,0.1,0.5])  # 9.38 µs ± 116 ns per loop\n",
    "\n",
    "\n",
    "def cross_entropy_solution(Y, P):\n",
    "    Y = np.float_(Y)\n",
    "    P = np.float_(P)\n",
    "    return -np.sum(Y * np.log(P) + (1 - Y) * np.log(1 - P))b\n",
    "\n",
    "#%timeit \n",
    "cross_entropy_solution([1, 0, 1, 1], [0.4,0.6,0.1,0.5])  # 11.1 µs ± 143 ns per loop"
   ]
  },
  {
   "cell_type": "markdown",
   "metadata": {},
   "source": [
    "## Perceptron Quiz"
   ]
  },
  {
   "cell_type": "code",
   "execution_count": null,
   "metadata": {},
   "outputs": [],
   "source": [
    "import numpy as np\n",
    "# Setting the random seed, feel free to change it and see different solutions.\n",
    "np.random.seed(42)\n",
    "\n",
    "def stepFunction(t):\n",
    "    if t >= 0:\n",
    "        return 1\n",
    "    return 0\n",
    "\n",
    "def prediction(X, W, b):\n",
    "    return stepFunction((np.matmul(X,W)+b)[0])\n",
    "\n",
    "# TODO: Fill in the code below to implement the perceptron trick.\n",
    "# The function should receive as inputs the data X, the labels y,\n",
    "# the weights W (as an array), and the bias b,\n",
    "# update the weights and bias W, b, according to the perceptron algorithm,\n",
    "# and return W and b.\n",
    "def perceptronStep(X, y, W, b, learn_rate = 0.01):\n",
    "    # Fill in code\n",
    "    for i in range(len(X)):\n",
    "        if prediction(X[i], W, b) != y[i]:\n",
    "            if y[i] == 1.0:\n",
    "                W[0] += X[i][0] * learn_rate\n",
    "                W[1] += X[i][1] * learn_rate\n",
    "                b += learn_rate\n",
    "            else:\n",
    "                W[0] -= X[i][0] * learn_rate\n",
    "                W[1] -= X[i][1] * learn_rate\n",
    "                b -= learn_rate\n",
    "    return W, b\n",
    "\n",
    "# This function runs the perceptron algorithm repeatedly on the dataset,\n",
    "# and returns a few of the boundary lines obtained in the iterations,\n",
    "# for plotting purposes.\n",
    "# Feel free to play with the learning rate and the num_epochs,\n",
    "# and see your results plotted below.\n",
    "def trainPerceptronAlgorithm(X, y, learn_rate = 0.01, num_epochs = 25):\n",
    "    x_min, x_max = min(X.T[0]), max(X.T[0])\n",
    "    y_min, y_max = min(X.T[1]), max(X.T[1])\n",
    "    W = np.array(np.random.rand(2,1))\n",
    "    b = np.random.rand(1)[0] + x_max\n",
    "    # These are the solution lines that get plotted below.\n",
    "    boundary_lines = []\n",
    "    for i in range(num_epochs):\n",
    "        # In each epoch, we apply the perceptron step.\n",
    "        W, b = perceptronStep(X, y, W, b, learn_rate)\n",
    "        boundary_lines.append((-W[0]/W[1], -b/W[1]))\n",
    "    return boundary_lines"
   ]
  }
 ],
 "metadata": {
  "kernelspec": {
   "display_name": "Python 3",
   "language": "python",
   "name": "python3"
  },
  "language_info": {
   "codemirror_mode": {
    "name": "ipython",
    "version": 3
   },
   "file_extension": ".py",
   "mimetype": "text/x-python",
   "name": "python",
   "nbconvert_exporter": "python",
   "pygments_lexer": "ipython3",
   "version": "3.6.4"
  }
 },
 "nbformat": 4,
 "nbformat_minor": 2
}
